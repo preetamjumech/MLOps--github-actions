{
 "cells": [
  {
   "cell_type": "code",
   "execution_count": 3,
   "metadata": {},
   "outputs": [],
   "source": [
    "import pandas as pd\n",
    "import numpy as np\n",
    "\n",
    "dataset = pd.read_csv('Iris.csv')\n",
    "dataset.head()\n",
    "\n",
    "#test case\n",
    "#Feature Check\n",
    "cols = dataset.columns.tolist()\n",
    "feature_check = all(dataset.columns.isin(cols))\n",
    "feature_check\n",
    "\n",
    "#Length Check\n",
    "sepal_length_test = dataset['sepal length (Cm)'].between(4,7).all()\n",
    "sepal_width_test = dataset['sepal width (Cm)'].between(2,5).all()\n",
    "petal_length_test = dataset['petal length (Cm)'].between(1,6).all()\n",
    "petal_width_test = dataset['petal width (Cm)'].between(0,3).all()\n",
    "\n",
    "feature_check = [\"Passed &#9989;\" if feature_check else \"Failed &#10540;\"]\n",
    "sepal_length_test = [\"Passed &#9989;\" if sepal_length_test else \"Failed &#10540;\"]\n",
    "sepal_width_test =  [\"Passed &#9989;\" if sepal_width_test else \"Failed &#10540;\"]\n",
    "petal_length_test = [\"Passed &#9989;\" if petal_length_test else \"Failed &#10540;\"]\n",
    "petal_width_test = [\"Passed &#9989;\" if petal_width_test else \"Failed &#10540;\"]\n",
    "\n",
    "expected_columns = 4\n",
    "def test_check_schema():\n",
    "    header = dataset[dataset.columns[:-1]]\n",
    "    actual_columns = header.shape[1]\n",
    "    # check header has expected number of columns\n",
    "    assert actual_columns == expected_columns\n",
    "test_check_schema()\n",
    "\n",
    "\n",
    "with open(\"test.txt\", 'w') as outfile:\n",
    "        outfile.write(\"Feature Test: %s\\n\" % feature_check[0])\n",
    "        outfile.write(\"sepal length Test : %s\\n\" % sepal_length_test[0])\n",
    "        outfile.write(\"sepal width Test : %s\\n\" % sepal_width_test[0])\n",
    "        outfile.write(\"petal length Test : %s\\n\" % petal_length_test[0])\n",
    "        outfile.write(\"petal width Test : %s\\n\" % petal_width_test[0])\n",
    "\n",
    "        outfile.write(\"\\n\")\n",
    "        outfile.write(\"\\n\")\n"
   ]
  },
  {
   "cell_type": "code",
   "execution_count": null,
   "metadata": {},
   "outputs": [],
   "source": []
  }
 ],
 "metadata": {
  "kernelspec": {
   "display_name": "Python 3",
   "language": "python",
   "name": "python3"
  },
  "language_info": {
   "codemirror_mode": {
    "name": "ipython",
    "version": 3
   },
   "file_extension": ".py",
   "mimetype": "text/x-python",
   "name": "python",
   "nbconvert_exporter": "python",
   "pygments_lexer": "ipython3",
   "version": "3.10.13"
  }
 },
 "nbformat": 4,
 "nbformat_minor": 2
}
